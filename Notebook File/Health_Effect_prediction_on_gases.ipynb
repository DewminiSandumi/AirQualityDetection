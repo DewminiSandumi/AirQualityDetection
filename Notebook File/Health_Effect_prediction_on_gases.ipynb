{
 "cells": [
  {
   "cell_type": "code",
   "execution_count": 2,
   "metadata": {},
   "outputs": [],
   "source": [
    "import pandas as pd\n",
    "import numpy as np\n",
    "import plotly.graph_objs as go\n",
    "import plotly.tools as tls\n",
    "from plotly.offline import iplot, init_notebook_mode\n",
    "from plotly.subplots import make_subplots\n",
    "import cufflinks\n",
    "from plotly import tools\n",
    "from sklearn.model_selection import train_test_split"
   ]
  },
  {
   "cell_type": "code",
   "execution_count": 3,
   "metadata": {},
   "outputs": [
    {
     "name": "stdout",
     "output_type": "stream",
     "text": [
      "   CH4  CO2  CO     Health Effect\n",
      "0  2.1  213   3  No Health Effect\n",
      "1  2.1  293   2  No Health Effect\n",
      "2  2.1  268   5  No Health Effect\n",
      "3  2.0  275   6  No Health Effect\n",
      "4  2.0  341   1  No Health Effect\n"
     ]
    }
   ],
   "source": [
    "df = pd.read_csv(\"CH4_CO_health_effect_NEW.csv\")\n",
    "print(df.head())"
   ]
  },
  {
   "cell_type": "code",
   "execution_count": 4,
   "metadata": {},
   "outputs": [
    {
     "name": "stdout",
     "output_type": "stream",
     "text": [
      "<class 'pandas.core.frame.DataFrame'>\n",
      "RangeIndex: 9065 entries, 0 to 9064\n",
      "Data columns (total 4 columns):\n",
      " #   Column         Non-Null Count  Dtype  \n",
      "---  ------         --------------  -----  \n",
      " 0   CH4            9065 non-null   float64\n",
      " 1   CO2            9065 non-null   int64  \n",
      " 2   CO             9065 non-null   int64  \n",
      " 3   Health Effect  9065 non-null   object \n",
      "dtypes: float64(1), int64(2), object(1)\n",
      "memory usage: 283.4+ KB\n"
     ]
    }
   ],
   "source": [
    "df.info()"
   ]
  },
  {
   "cell_type": "code",
   "execution_count": 5,
   "metadata": {},
   "outputs": [
    {
     "data": {
      "text/plain": [
       "0"
      ]
     },
     "execution_count": 5,
     "metadata": {},
     "output_type": "execute_result"
    }
   ],
   "source": [
    "df.isnull().sum().values.sum()"
   ]
  },
  {
   "cell_type": "code",
   "execution_count": 6,
   "metadata": {},
   "outputs": [
    {
     "data": {
      "text/plain": [
       "CH4                51\n",
       "CO2              7375\n",
       "CO               4824\n",
       "Health Effect      12\n",
       "dtype: int64"
      ]
     },
     "execution_count": 6,
     "metadata": {},
     "output_type": "execute_result"
    }
   ],
   "source": [
    "df.nunique()"
   ]
  },
  {
   "cell_type": "code",
   "execution_count": 7,
   "metadata": {},
   "outputs": [
    {
     "data": {
      "text/html": [
       "<div>\n",
       "<style scoped>\n",
       "    .dataframe tbody tr th:only-of-type {\n",
       "        vertical-align: middle;\n",
       "    }\n",
       "\n",
       "    .dataframe tbody tr th {\n",
       "        vertical-align: top;\n",
       "    }\n",
       "\n",
       "    .dataframe thead th {\n",
       "        text-align: right;\n",
       "    }\n",
       "</style>\n",
       "<table border=\"1\" class=\"dataframe\">\n",
       "  <thead>\n",
       "    <tr style=\"text-align: right;\">\n",
       "      <th></th>\n",
       "      <th>CH4</th>\n",
       "      <th>CO2</th>\n",
       "      <th>CO</th>\n",
       "      <th>Health Effect</th>\n",
       "    </tr>\n",
       "  </thead>\n",
       "  <tbody>\n",
       "    <tr>\n",
       "      <th>0</th>\n",
       "      <td>2.1</td>\n",
       "      <td>213</td>\n",
       "      <td>3</td>\n",
       "      <td>No Health Effect</td>\n",
       "    </tr>\n",
       "    <tr>\n",
       "      <th>1</th>\n",
       "      <td>2.1</td>\n",
       "      <td>293</td>\n",
       "      <td>2</td>\n",
       "      <td>No Health Effect</td>\n",
       "    </tr>\n",
       "    <tr>\n",
       "      <th>2</th>\n",
       "      <td>2.1</td>\n",
       "      <td>268</td>\n",
       "      <td>5</td>\n",
       "      <td>No Health Effect</td>\n",
       "    </tr>\n",
       "    <tr>\n",
       "      <th>3</th>\n",
       "      <td>2.0</td>\n",
       "      <td>275</td>\n",
       "      <td>6</td>\n",
       "      <td>No Health Effect</td>\n",
       "    </tr>\n",
       "    <tr>\n",
       "      <th>4</th>\n",
       "      <td>2.0</td>\n",
       "      <td>341</td>\n",
       "      <td>1</td>\n",
       "      <td>No Health Effect</td>\n",
       "    </tr>\n",
       "  </tbody>\n",
       "</table>\n",
       "</div>"
      ],
      "text/plain": [
       "   CH4  CO2  CO     Health Effect\n",
       "0  2.1  213   3  No Health Effect\n",
       "1  2.1  293   2  No Health Effect\n",
       "2  2.1  268   5  No Health Effect\n",
       "3  2.0  275   6  No Health Effect\n",
       "4  2.0  341   1  No Health Effect"
      ]
     },
     "execution_count": 7,
     "metadata": {},
     "output_type": "execute_result"
    }
   ],
   "source": [
    "df.head()"
   ]
  },
  {
   "cell_type": "code",
   "execution_count": 8,
   "metadata": {},
   "outputs": [],
   "source": [
    "metric_col = [\"Health Effect\"]"
   ]
  },
  {
   "cell_type": "code",
   "execution_count": 9,
   "metadata": {},
   "outputs": [],
   "source": [
    "features = ['CH4','CO2','CO']"
   ]
  },
  {
   "cell_type": "code",
   "execution_count": 10,
   "metadata": {
    "scrolled": true
   },
   "outputs": [
    {
     "name": "stderr",
     "output_type": "stream",
     "text": [
      "C:\\Users\\User\\anaconda3\\lib\\site-packages\\sklearn\\utils\\deprecation.py:144: FutureWarning:\n",
      "\n",
      "The sklearn.metrics.scorer module is  deprecated in version 0.22 and will be removed in version 0.24. The corresponding classes / functions should instead be imported from sklearn.metrics. Anything that cannot be imported from sklearn.metrics is now part of the private API.\n",
      "\n",
      "C:\\Users\\User\\anaconda3\\lib\\site-packages\\sklearn\\utils\\deprecation.py:144: FutureWarning:\n",
      "\n",
      "The sklearn.metrics.classification module is  deprecated in version 0.22 and will be removed in version 0.24. The corresponding classes / functions should instead be imported from sklearn.metrics. Anything that cannot be imported from sklearn.metrics is now part of the private API.\n",
      "\n"
     ]
    }
   ],
   "source": [
    "from sklearn.model_selection import train_test_split\n",
    "from sklearn.linear_model import LogisticRegression\n",
    "from sklearn.metrics import confusion_matrix,accuracy_score,classification_report\n",
    "from sklearn.metrics import roc_auc_score,roc_curve,scorer\n",
    "from sklearn.metrics import f1_score\n",
    "import statsmodels.api as sm\n",
    "from sklearn.metrics import precision_score,recall_score\n",
    "from yellowbrick.classifier import DiscriminationThreshold"
   ]
  },
  {
   "cell_type": "code",
   "execution_count": 14,
   "metadata": {},
   "outputs": [],
   "source": [
    "X = np.array(df[features])\n",
    "y = np.array(df['Health Effect'])"
   ]
  },
  {
   "cell_type": "code",
   "execution_count": 15,
   "metadata": {},
   "outputs": [],
   "source": [
    "X_train, X_test, y_train, y_test = train_test_split(X, y, test_size = 0.2, random_state = 42)"
   ]
  },
  {
   "cell_type": "code",
   "execution_count": 16,
   "metadata": {},
   "outputs": [
    {
     "data": {
      "text/plain": [
       "{'Death within 1-3 minutes of exposure.': 266,\n",
       " 'Death within 30 minutes.': 1562,\n",
       " 'Dizziness, naseau, fagitue, headache after 2-3 hours of exposure.': 159,\n",
       " 'Headache and nausea after 1-2 hours of exposure.\\nLife threatening in 3 hours.': 458,\n",
       " 'Headache, nausea, and dizziness after 20 minutes of exposure.\\nDeath within 1-2 hours.': 1427,\n",
       " 'Headache, nausea, and dizziness after 45 minutes; collapse and unconsciousness after 1 hour of exposure.\\nDeath within 2-3 hours.': 207,\n",
       " 'Headache, nausea, and dizziness after 5-10 minutes; collapse and unconsciousness after 30 minutes of exposure.\\nDeath within 1 hour.': 1743,\n",
       " 'Immediate physiological effects, unconsciousness.\\nDeath within 1-3 minutes of exposure.': 206,\n",
       " 'Loss of consciousness after 1 hour of exposure.': 515,\n",
       " 'No Health Effect': 979,\n",
       " 'Possible health effects with long-term exposure.': 1477,\n",
       " 'Slight headache after 1-2 hours.': 66}"
      ]
     },
     "execution_count": 16,
     "metadata": {},
     "output_type": "execute_result"
    }
   ],
   "source": [
    "unique, counts = np.unique(y, return_counts=True)\n",
    "dict(zip(unique, counts))"
   ]
  },
  {
   "cell_type": "code",
   "execution_count": 17,
   "metadata": {},
   "outputs": [],
   "source": [
    "#LOGISTIC REGRESSION"
   ]
  },
  {
   "cell_type": "code",
   "execution_count": 18,
   "metadata": {},
   "outputs": [],
   "source": [
    "from sklearn.linear_model import LogisticRegression"
   ]
  },
  {
   "cell_type": "code",
   "execution_count": 19,
   "metadata": {},
   "outputs": [],
   "source": [
    "logit= LogisticRegression(C=1.0, class_weight=None, dual=False, fit_intercept=True,intercept_scaling=1, max_iter=100, multi_class='ovr', n_jobs=1,penalty='l2', random_state=None, solver='liblinear', tol=0.0001,verbose=0, warm_start=False)\n",
    "logit.fit(X_train, y_train)\n",
    "y_pred = logit.predict(X_test)"
   ]
  },
  {
   "cell_type": "code",
   "execution_count": 60,
   "metadata": {},
   "outputs": [
    {
     "name": "stdout",
     "output_type": "stream",
     "text": [
      "                                                                                                                                     precision    recall  f1-score   support\n",
      "\n",
      "                                                                                              Death within 1-3 minutes of exposure.       0.23      1.00      0.38        60\n",
      "                                                                                                           Death within 30 minutes.       0.97      0.60      0.74       279\n",
      "                                                                  Dizziness, naseau, fagitue, headache after 2-3 hours of exposure.       0.04      0.62      0.07        26\n",
      "                                                      Headache and nausea after 1-2 hours of exposure.\n",
      "Life threatening in 3 hours.       0.00      0.00      0.00        92\n",
      "                                              Headache, nausea, and dizziness after 20 minutes of exposure.\n",
      "Death within 1-2 hours.       0.63      0.75      0.68       287\n",
      "   Headache, nausea, and dizziness after 45 minutes; collapse and unconsciousness after 1 hour of exposure.\n",
      "Death within 2-3 hours.       0.00      0.00      0.00        50\n",
      "Headache, nausea, and dizziness after 5-10 minutes; collapse and unconsciousness after 30 minutes of exposure.\n",
      "Death within 1 hour.       0.89      0.74      0.81       342\n",
      "                                            Immediate physiological effects, unconsciousness.\n",
      "Death within 1-3 minutes of exposure.       0.27      0.77      0.40        47\n",
      "                                                                                    Loss of consciousness after 1 hour of exposure.       0.53      0.43      0.47       108\n",
      "                                                                                                                   No Health Effect       0.00      0.00      0.00       192\n",
      "                                                                                   Possible health effects with long-term exposure.       0.45      0.16      0.23       313\n",
      "                                                                                                   Slight headache after 1-2 hours.       0.00      0.00      0.00        17\n",
      "\n",
      "                                                                                                                           accuracy                           0.46      1813\n",
      "                                                                                                                          macro avg       0.33      0.42      0.32      1813\n",
      "                                                                                                                       weighted avg       0.54      0.46      0.47      1813\n",
      "\n",
      "Accuracy   Score :  0.46442360728075016\n"
     ]
    }
   ],
   "source": [
    "from sklearn import metrics\n",
    "print(metrics.classification_report(y_test, y_pred))\n",
    "f=open(\"healthi_logit.txt\", \"w\")\n",
    "f.write(metrics.classification_report(y_test, y_pred))\n",
    "print(\"Accuracy   Score : \", accuracy_score(y_test, y_pred))\n",
    "f.close()"
   ]
  },
  {
   "cell_type": "code",
   "execution_count": 61,
   "metadata": {},
   "outputs": [
    {
     "ename": "AttributeError",
     "evalue": "'LogisticRegression' object has no attribute 'summary'",
     "output_type": "error",
     "traceback": [
      "\u001b[1;31m---------------------------------------------------------------------------\u001b[0m",
      "\u001b[1;31mAttributeError\u001b[0m                            Traceback (most recent call last)",
      "\u001b[1;32m<ipython-input-61-b76ccebd1d3d>\u001b[0m in \u001b[0;36m<module>\u001b[1;34m\u001b[0m\n\u001b[1;32m----> 1\u001b[1;33m \u001b[0mprint\u001b[0m \u001b[1;33m(\u001b[0m\u001b[0mlogit\u001b[0m\u001b[1;33m.\u001b[0m\u001b[0msummary\u001b[0m\u001b[1;33m(\u001b[0m\u001b[1;33m)\u001b[0m\u001b[1;33m)\u001b[0m\u001b[1;33m\u001b[0m\u001b[1;33m\u001b[0m\u001b[0m\n\u001b[0m",
      "\u001b[1;31mAttributeError\u001b[0m: 'LogisticRegression' object has no attribute 'summary'"
     ]
    }
   ],
   "source": [
    "print (logit.summary())"
   ]
  },
  {
   "cell_type": "code",
   "execution_count": 22,
   "metadata": {},
   "outputs": [
    {
     "data": {
      "text/plain": [
       "array([[ 60,   0,   0,   0,   0,   0,   0,   0,   0,   0,   0,   0],\n",
       "       [  0, 266,   0,   0,   0,   0,  13,   0,   0,   0,   0,   0],\n",
       "       [  0,   0,   0,   0,  26,   0,   0,   0,   0,   0,   0,   0],\n",
       "       [  0,   0,   0,   0,  92,   0,   0,   0,   0,   0,   0,   0],\n",
       "       [  0,   0,   0,   0, 185,   0, 102,   0,   0,   0,   0,   0],\n",
       "       [  0,   0,   0,   0,  50,   0,   0,   0,   0,   0,   0,   0],\n",
       "       [  0,   0,   0,   0,  15,   0, 327,   0,   0,   0,   0,   0],\n",
       "       [  0,  30,   0,   0,   0,   0,   7,  10,   0,   0,   0,   0],\n",
       "       [  0,   0,   0,   0, 101,   0,   6,   0,   1,   0,   0,   0],\n",
       "       [  0,   0,   0,   0, 141,   0,   0,   0,   0,   0,  51,   0],\n",
       "       [  0,   0,   0,   0, 281,   0,   0,   0,   0,   0,  32,   0],\n",
       "       [  0,   0,   0,   0,  17,   0,   0,   0,   0,   0,   0,   0]],\n",
       "      dtype=int64)"
      ]
     },
     "execution_count": 22,
     "metadata": {},
     "output_type": "execute_result"
    }
   ],
   "source": [
    "#confusion matrix\n",
    "conf_matrix = confusion_matrix(y_test, y_pred)\n",
    "conf_matrix"
   ]
  },
  {
   "cell_type": "code",
   "execution_count": 23,
   "metadata": {},
   "outputs": [],
   "source": [
    "coefficients  = pd.DataFrame(logit.coef_.ravel())\n",
    "column_df     = pd.DataFrame(features)\n",
    "coef_sumry    = (pd.merge(coefficients,column_df,left_index= True,\n",
    "                          right_index= True, how = \"left\"))\n",
    "coef_sumry.columns = [\"coefficients\",\"features\"]\n",
    "coef_sumry    = coef_sumry.sort_values(by = \"coefficients\",ascending = False)"
   ]
  },
  {
   "cell_type": "code",
   "execution_count": 24,
   "metadata": {},
   "outputs": [],
   "source": [
    "# #plot coeffs\n",
    "# trace4 = go.Bar(x = coef_sumry[\"features\"],y = coef_sumry[\"coefficients\"],\n",
    "#                 name = \"coefficients\",\n",
    "#                 marker = dict(color = coef_sumry[\"coefficients\"],\n",
    "#                               colorscale = \"Picnic\",\n",
    "#                               line = dict(width = .6,color = \"black\")))\n",
    "\n",
    "# layout = go.Layout(dict(title = \"Feature Importances\",\n",
    "#                         autosize = False,\n",
    "#                         height  = 720,\n",
    "#                         width   = 800,\n",
    "#                         margin = dict(b = 195),\n",
    "#                         yaxis   = dict(tickfont = dict(size = 9)),\n",
    "#                         xaxis   = dict(tickfont = dict(size = 9)),\n",
    "#                         plot_bgcolor = 'rgba(240,240,240, 0.95)',\n",
    "#                         paper_bgcolor = 'rgba(240,240,240, 0.95)',\n",
    "#                        )\n",
    "#                   )\n",
    "# # fig['layout'].update(showlegend=False, title=\"Feature Importances\" ,\n",
    "# #                          autosize = True,\n",
    "# #                          plot_bgcolor = 'rgba(240,240,240, 0.95)',\n",
    "# #                          paper_bgcolor = 'rgba(240,240,240, 0.95)',\n",
    "# #                          margin = dict(b = 195))\n",
    "# fig[\"layout\"][\"xaxis\"].update(dict(showgrid = True,tickfont = dict(size = 10),\n",
    "#                                         tickangle = 90))\n",
    "\n",
    "# #defining figure and plotting\n",
    "# fig = go.Figure(trace4,layout=layout)\n",
    "# iplot(fig)"
   ]
  },
  {
   "cell_type": "code",
   "execution_count": 25,
   "metadata": {},
   "outputs": [
    {
     "data": {
      "text/plain": [
       "array([[ 3.43252569e-01, -1.08230095e-04,  2.16214424e-05],\n",
       "       [-9.48624173e-01,  1.00393296e-05,  6.46702805e-06],\n",
       "       [-8.55118742e-01, -7.91275999e-07, -1.90625043e-03],\n",
       "       [-9.85472281e-04, -6.42008406e-04,  5.06396194e-04],\n",
       "       [-1.82479244e-04, -3.47472374e-06, -3.33296914e-04],\n",
       "       [-1.06913558e+00,  4.74271297e-06, -7.72883954e-04],\n",
       "       [-7.74343639e-01, -7.09552252e-05,  1.17630472e-03],\n",
       "       [-3.36381171e+00, -1.48290716e-06,  8.06233185e-04],\n",
       "       [-5.73699806e-04, -7.82643382e-04,  1.28902215e-03],\n",
       "       [ 1.14362283e-04, -1.71911947e-03, -7.70403535e-04],\n",
       "       [ 1.44321914e-04,  6.14835916e-05, -8.94300881e-03],\n",
       "       [-1.29597662e+00, -2.10186128e-04, -1.42211905e-03]])"
      ]
     },
     "execution_count": 25,
     "metadata": {},
     "output_type": "execute_result"
    }
   ],
   "source": [
    "\n",
    "logit.coef_"
   ]
  },
  {
   "cell_type": "code",
   "execution_count": 26,
   "metadata": {},
   "outputs": [],
   "source": [
    "from imblearn.over_sampling import SMOTE\n",
    "#resampling need to be done on training dataset only\n",
    "X_train_res, y_train_res = SMOTE().fit_sample(X_train, y_train)"
   ]
  },
  {
   "cell_type": "code",
   "execution_count": 27,
   "metadata": {},
   "outputs": [],
   "source": [
    "logit= LogisticRegression(C=1.0, class_weight=None, dual=False, fit_intercept=True,intercept_scaling=1, max_iter=100, multi_class='ovr', n_jobs=1,penalty='l2', random_state=None, solver='liblinear', tol=0.0001,verbose=0, warm_start=False)\n",
    "logit.fit(X_train_res, y_train_res)\n",
    "y_pred = logit.predict(X_test)"
   ]
  },
  {
   "cell_type": "code",
   "execution_count": 28,
   "metadata": {},
   "outputs": [
    {
     "name": "stdout",
     "output_type": "stream",
     "text": [
      "                                                                                                                                     precision    recall  f1-score   support\n",
      "\n",
      "                                                                                              Death within 1-3 minutes of exposure.       0.23      1.00      0.38        60\n",
      "                                                                                                           Death within 30 minutes.       0.97      0.60      0.74       279\n",
      "                                                                  Dizziness, naseau, fagitue, headache after 2-3 hours of exposure.       0.04      0.62      0.07        26\n",
      "                                                      Headache and nausea after 1-2 hours of exposure.\n",
      "Life threatening in 3 hours.       0.00      0.00      0.00        92\n",
      "                                              Headache, nausea, and dizziness after 20 minutes of exposure.\n",
      "Death within 1-2 hours.       0.63      0.75      0.68       287\n",
      "   Headache, nausea, and dizziness after 45 minutes; collapse and unconsciousness after 1 hour of exposure.\n",
      "Death within 2-3 hours.       0.00      0.00      0.00        50\n",
      "Headache, nausea, and dizziness after 5-10 minutes; collapse and unconsciousness after 30 minutes of exposure.\n",
      "Death within 1 hour.       0.89      0.74      0.81       342\n",
      "                                            Immediate physiological effects, unconsciousness.\n",
      "Death within 1-3 minutes of exposure.       0.27      0.77      0.40        47\n",
      "                                                                                    Loss of consciousness after 1 hour of exposure.       0.53      0.43      0.47       108\n",
      "                                                                                                                   No Health Effect       0.00      0.00      0.00       192\n",
      "                                                                                   Possible health effects with long-term exposure.       0.45      0.16      0.23       313\n",
      "                                                                                                   Slight headache after 1-2 hours.       0.00      0.00      0.00        17\n",
      "\n",
      "                                                                                                                           accuracy                           0.46      1813\n",
      "                                                                                                                          macro avg       0.33      0.42      0.32      1813\n",
      "                                                                                                                       weighted avg       0.54      0.46      0.47      1813\n",
      "\n"
     ]
    },
    {
     "name": "stderr",
     "output_type": "stream",
     "text": [
      "C:\\Users\\User\\anaconda3\\lib\\site-packages\\sklearn\\metrics\\_classification.py:1272: UndefinedMetricWarning:\n",
      "\n",
      "Precision and F-score are ill-defined and being set to 0.0 in labels with no predicted samples. Use `zero_division` parameter to control this behavior.\n",
      "\n"
     ]
    }
   ],
   "source": [
    "print(metrics.classification_report(y_test, y_pred))"
   ]
  },
  {
   "cell_type": "code",
   "execution_count": 29,
   "metadata": {},
   "outputs": [
    {
     "name": "stdout",
     "output_type": "stream",
     "text": [
      "0.46442360728075016\n"
     ]
    }
   ],
   "source": [
    "print(accuracy_score(y_test, y_pred))"
   ]
  },
  {
   "cell_type": "code",
   "execution_count": 30,
   "metadata": {},
   "outputs": [
    {
     "name": "stdout",
     "output_type": "stream",
     "text": [
      "                                                                                                                                     precision    recall  f1-score   support\n",
      "\n",
      "                                                                                              Death within 1-3 minutes of exposure.       0.14      1.00      0.24        60\n",
      "                                                                                                           Death within 30 minutes.       0.30      0.89      0.44       279\n",
      "                                                                  Dizziness, naseau, fagitue, headache after 2-3 hours of exposure.       0.00      0.00      0.00        26\n",
      "                                                      Headache and nausea after 1-2 hours of exposure.\n",
      "Life threatening in 3 hours.       0.00      0.00      0.00        92\n",
      "                                              Headache, nausea, and dizziness after 20 minutes of exposure.\n",
      "Death within 1-2 hours.       0.00      0.00      0.00       287\n",
      "   Headache, nausea, and dizziness after 45 minutes; collapse and unconsciousness after 1 hour of exposure.\n",
      "Death within 2-3 hours.       0.00      0.00      0.00        50\n",
      "Headache, nausea, and dizziness after 5-10 minutes; collapse and unconsciousness after 30 minutes of exposure.\n",
      "Death within 1 hour.       0.00      0.00      0.00       342\n",
      "                                            Immediate physiological effects, unconsciousness.\n",
      "Death within 1-3 minutes of exposure.       0.00      0.00      0.00        47\n",
      "                                                                                    Loss of consciousness after 1 hour of exposure.       0.00      0.00      0.00       108\n",
      "                                                                                                                   No Health Effect       0.00      0.00      0.00       192\n",
      "                                                                                   Possible health effects with long-term exposure.       0.00      0.00      0.00       313\n",
      "                                                                                                   Slight headache after 1-2 hours.       0.00      0.00      0.00        17\n",
      "\n",
      "                                                                                                                           accuracy                           0.17      1813\n",
      "                                                                                                                          macro avg       0.04      0.16      0.06      1813\n",
      "                                                                                                                       weighted avg       0.05      0.17      0.08      1813\n",
      "\n",
      "0.16933259790402647\n"
     ]
    },
    {
     "name": "stderr",
     "output_type": "stream",
     "text": [
      "C:\\Users\\User\\anaconda3\\lib\\site-packages\\sklearn\\metrics\\_classification.py:1272: UndefinedMetricWarning:\n",
      "\n",
      "Precision and F-score are ill-defined and being set to 0.0 in labels with no predicted samples. Use `zero_division` parameter to control this behavior.\n",
      "\n"
     ]
    }
   ],
   "source": [
    "#Stochastic Gradient Classifier\n",
    "from sklearn.linear_model import SGDClassifier\n",
    "sg = SGDClassifier(random_state=42)\n",
    "sg.fit(X_train_res,y_train_res)\n",
    "pred = sg.predict(X_test)\n",
    "from sklearn.metrics import classification_report,accuracy_score\n",
    "print(classification_report(y_test, pred))\n",
    "print(accuracy_score(y_test, pred))"
   ]
  },
  {
   "cell_type": "code",
   "execution_count": 31,
   "metadata": {},
   "outputs": [
    {
     "name": "stdout",
     "output_type": "stream",
     "text": [
      "0.16933259790402647\n"
     ]
    }
   ],
   "source": [
    "print(accuracy_score(y_test, pred))"
   ]
  },
  {
   "cell_type": "code",
   "execution_count": 32,
   "metadata": {},
   "outputs": [
    {
     "name": "stdout",
     "output_type": "stream",
     "text": [
      "                                                                                                                                     precision    recall  f1-score   support\n",
      "\n",
      "                                                                                              Death within 1-3 minutes of exposure.       0.05      1.00      0.09        60\n",
      "                                                                                                           Death within 30 minutes.       0.00      0.00      0.00       279\n",
      "                                                                  Dizziness, naseau, fagitue, headache after 2-3 hours of exposure.       0.00      0.00      0.00        26\n",
      "                                                      Headache and nausea after 1-2 hours of exposure.\n",
      "Life threatening in 3 hours.       0.00      0.00      0.00        92\n",
      "                                              Headache, nausea, and dizziness after 20 minutes of exposure.\n",
      "Death within 1-2 hours.       0.00      0.00      0.00       287\n",
      "   Headache, nausea, and dizziness after 45 minutes; collapse and unconsciousness after 1 hour of exposure.\n",
      "Death within 2-3 hours.       0.00      0.00      0.00        50\n",
      "Headache, nausea, and dizziness after 5-10 minutes; collapse and unconsciousness after 30 minutes of exposure.\n",
      "Death within 1 hour.       0.00      0.00      0.00       342\n",
      "                                            Immediate physiological effects, unconsciousness.\n",
      "Death within 1-3 minutes of exposure.       0.00      0.00      0.00        47\n",
      "                                                                                    Loss of consciousness after 1 hour of exposure.       0.00      0.00      0.00       108\n",
      "                                                                                                                   No Health Effect       1.00      1.00      1.00       192\n",
      "                                                                                   Possible health effects with long-term exposure.       1.00      1.00      1.00       313\n",
      "                                                                                                   Slight headache after 1-2 hours.       0.00      0.00      0.00        17\n",
      "\n",
      "                                                                                                                           accuracy                           0.31      1813\n",
      "                                                                                                                          macro avg       0.17      0.25      0.17      1813\n",
      "                                                                                                                       weighted avg       0.28      0.31      0.28      1813\n",
      "\n",
      "0.3116381687810259\n"
     ]
    },
    {
     "name": "stderr",
     "output_type": "stream",
     "text": [
      "C:\\Users\\User\\anaconda3\\lib\\site-packages\\sklearn\\metrics\\_classification.py:1272: UndefinedMetricWarning:\n",
      "\n",
      "Precision and F-score are ill-defined and being set to 0.0 in labels with no predicted samples. Use `zero_division` parameter to control this behavior.\n",
      "\n"
     ]
    }
   ],
   "source": [
    "#Decision Tree Classifier\n",
    "from sklearn.tree import DecisionTreeClassifier \n",
    "dtree_model = DecisionTreeClassifier(max_depth = 2).fit(X_train_res,y_train_res) \n",
    "dtree_predictions = dtree_model.predict(X_test)\n",
    "print(classification_report(y_test, dtree_predictions))\n",
    "print(accuracy_score(y_test, dtree_predictions))"
   ]
  },
  {
   "cell_type": "code",
   "execution_count": 33,
   "metadata": {},
   "outputs": [
    {
     "name": "stdout",
     "output_type": "stream",
     "text": [
      "0.3116381687810259\n"
     ]
    }
   ],
   "source": [
    "print(accuracy_score(y_test, dtree_predictions))"
   ]
  },
  {
   "cell_type": "code",
   "execution_count": 34,
   "metadata": {},
   "outputs": [
    {
     "name": "stdout",
     "output_type": "stream",
     "text": [
      "                                                                                                                                     precision    recall  f1-score   support\n",
      "\n",
      "                                                                                              Death within 1-3 minutes of exposure.       0.76      1.00      0.86        60\n",
      "                                                                                                           Death within 30 minutes.       0.96      0.82      0.88       279\n",
      "                                                                  Dizziness, naseau, fagitue, headache after 2-3 hours of exposure.       0.03      0.23      0.05        26\n",
      "                                                      Headache and nausea after 1-2 hours of exposure.\n",
      "Life threatening in 3 hours.       0.48      0.46      0.47        92\n",
      "                                              Headache, nausea, and dizziness after 20 minutes of exposure.\n",
      "Death within 1-2 hours.       0.78      0.09      0.16       287\n",
      "   Headache, nausea, and dizziness after 45 minutes; collapse and unconsciousness after 1 hour of exposure.\n",
      "Death within 2-3 hours.       0.70      0.14      0.23        50\n",
      "Headache, nausea, and dizziness after 5-10 minutes; collapse and unconsciousness after 30 minutes of exposure.\n",
      "Death within 1 hour.       0.76      0.22      0.34       342\n",
      "                                            Immediate physiological effects, unconsciousness.\n",
      "Death within 1-3 minutes of exposure.       0.45      0.66      0.53        47\n",
      "                                                                                    Loss of consciousness after 1 hour of exposure.       0.11      0.39      0.17       108\n",
      "                                                                                                                   No Health Effect       0.43      1.00      0.60       192\n",
      "                                                                                   Possible health effects with long-term exposure.       1.00      0.02      0.03       313\n",
      "                                                                                                   Slight headache after 1-2 hours.       0.02      0.18      0.03        17\n",
      "\n",
      "                                                                                                                           accuracy                           0.39      1813\n",
      "                                                                                                                          macro avg       0.54      0.43      0.36      1813\n",
      "                                                                                                                       weighted avg       0.72      0.39      0.38      1813\n",
      "\n",
      "0.39437396580253725\n"
     ]
    }
   ],
   "source": [
    "#SVM\n",
    "from sklearn.svm import SVC \n",
    "svm_model_linear = SVC(kernel = 'poly', C = 1).fit(X_train_res,y_train_res) \n",
    "svm_predictions = svm_model_linear.predict(X_test)\n",
    "print(classification_report(y_test, svm_predictions))\n",
    "print(accuracy_score(y_test, svm_predictions))"
   ]
  },
  {
   "cell_type": "code",
   "execution_count": 35,
   "metadata": {},
   "outputs": [
    {
     "name": "stdout",
     "output_type": "stream",
     "text": [
      "0.39437396580253725\n"
     ]
    }
   ],
   "source": [
    "print(accuracy_score(y_test, svm_predictions))"
   ]
  },
  {
   "cell_type": "code",
   "execution_count": 36,
   "metadata": {},
   "outputs": [
    {
     "name": "stdout",
     "output_type": "stream",
     "text": [
      "                                                                                                                                     precision    recall  f1-score   support\n",
      "\n",
      "                                                                                              Death within 1-3 minutes of exposure.       0.97      1.00      0.98        60\n",
      "                                                                                                           Death within 30 minutes.       0.98      0.89      0.93       279\n",
      "                                                                  Dizziness, naseau, fagitue, headache after 2-3 hours of exposure.       0.93      1.00      0.96        26\n",
      "                                                      Headache and nausea after 1-2 hours of exposure.\n",
      "Life threatening in 3 hours.       1.00      0.98      0.99        92\n",
      "                                              Headache, nausea, and dizziness after 20 minutes of exposure.\n",
      "Death within 1-2 hours.       0.94      0.98      0.96       287\n",
      "   Headache, nausea, and dizziness after 45 minutes; collapse and unconsciousness after 1 hour of exposure.\n",
      "Death within 2-3 hours.       0.98      1.00      0.99        50\n",
      "Headache, nausea, and dizziness after 5-10 minutes; collapse and unconsciousness after 30 minutes of exposure.\n",
      "Death within 1 hour.       0.99      0.95      0.97       342\n",
      "                                            Immediate physiological effects, unconsciousness.\n",
      "Death within 1-3 minutes of exposure.       0.57      0.83      0.67        47\n",
      "                                                                                    Loss of consciousness after 1 hour of exposure.       0.99      1.00      1.00       108\n",
      "                                                                                                                   No Health Effect       1.00      1.00      1.00       192\n",
      "                                                                                   Possible health effects with long-term exposure.       1.00      0.99      1.00       313\n",
      "                                                                                                   Slight headache after 1-2 hours.       0.89      1.00      0.94        17\n",
      "\n",
      "                                                                                                                           accuracy                           0.96      1813\n",
      "                                                                                                                          macro avg       0.94      0.97      0.95      1813\n",
      "                                                                                                                       weighted avg       0.97      0.96      0.97      1813\n",
      "\n",
      "0.9641478212906784\n"
     ]
    }
   ],
   "source": [
    "from sklearn.neighbors import KNeighborsClassifier \n",
    "knn = KNeighborsClassifier(n_neighbors = 7).fit(X_train_res,y_train_res) \n",
    "knn_predictions = knn.predict(X_test) \n",
    "print(classification_report(y_test, knn_predictions))\n",
    "print(accuracy_score(y_test, knn_predictions))"
   ]
  },
  {
   "cell_type": "code",
   "execution_count": 37,
   "metadata": {},
   "outputs": [
    {
     "name": "stdout",
     "output_type": "stream",
     "text": [
      "0.9641478212906784\n"
     ]
    }
   ],
   "source": [
    "print(accuracy_score(y_test, knn_predictions))"
   ]
  },
  {
   "cell_type": "code",
   "execution_count": 62,
   "metadata": {},
   "outputs": [
    {
     "data": {
      "text/plain": [
       "array([[ 60,   0,   0,   0,   0,   0,   0,   0,   0,   0,   0,   0],\n",
       "       [  0, 249,   0,   0,   0,   0,   0,  30,   0,   0,   0,   0],\n",
       "       [  0,   0,  26,   0,   0,   0,   0,   0,   0,   0,   0,   0],\n",
       "       [  0,   0,   2,  90,   0,   0,   0,   0,   0,   0,   0,   0],\n",
       "       [  0,   0,   0,   0, 281,   1,   4,   0,   1,   0,   0,   0],\n",
       "       [  0,   0,   0,   0,   0,  50,   0,   0,   0,   0,   0,   0],\n",
       "       [  0,   0,   0,   0,  17,   0, 325,   0,   0,   0,   0,   0],\n",
       "       [  2,   6,   0,   0,   0,   0,   0,  39,   0,   0,   0,   0],\n",
       "       [  0,   0,   0,   0,   0,   0,   0,   0, 108,   0,   0,   0],\n",
       "       [  0,   0,   0,   0,   0,   0,   0,   0,   0, 192,   0,   0],\n",
       "       [  0,   0,   0,   0,   0,   0,   0,   0,   0,   0, 311,   2],\n",
       "       [  0,   0,   0,   0,   0,   0,   0,   0,   0,   0,   0,  17]],\n",
       "      dtype=int64)"
      ]
     },
     "execution_count": 62,
     "metadata": {},
     "output_type": "execute_result"
    }
   ],
   "source": [
    "#confusion matrix\n",
    "conf_matrix = confusion_matrix(y_test, knn_predictions)\n",
    "conf_matrix"
   ]
  },
  {
   "cell_type": "code",
   "execution_count": 38,
   "metadata": {},
   "outputs": [
    {
     "name": "stderr",
     "output_type": "stream",
     "text": [
      "C:\\Users\\User\\anaconda3\\lib\\site-packages\\sklearn\\externals\\joblib\\__init__.py:15: FutureWarning:\n",
      "\n",
      "sklearn.externals.joblib is deprecated in 0.21 and will be removed in 0.23. Please import this functionality directly from joblib, which can be installed with: pip install joblib. If this warning is raised when loading pickled models, you may need to re-serialize those models with scikit-learn 0.21+.\n",
      "\n"
     ]
    },
    {
     "data": {
      "text/plain": [
       "['health_effect.pkl']"
      ]
     },
     "execution_count": 38,
     "metadata": {},
     "output_type": "execute_result"
    }
   ],
   "source": [
    "from sklearn.externals import joblib\n",
    "joblib.dump(knn, \"health_effect.pkl\")"
   ]
  },
  {
   "cell_type": "code",
   "execution_count": 39,
   "metadata": {},
   "outputs": [
    {
     "data": {
      "text/plain": [
       "array([1.90000e+00, 7.17776e+05, 8.91300e+03])"
      ]
     },
     "execution_count": 39,
     "metadata": {},
     "output_type": "execute_result"
    }
   ],
   "source": [
    "mod2=joblib.load(\"health_effect.pkl\")\n",
    "X_test[0]"
   ]
  },
  {
   "cell_type": "code",
   "execution_count": 40,
   "metadata": {},
   "outputs": [
    {
     "data": {
      "text/plain": [
       "array(['Death within 30 minutes.'], dtype=object)"
      ]
     },
     "execution_count": 40,
     "metadata": {},
     "output_type": "execute_result"
    }
   ],
   "source": [
    "mod2.predict([X_test[0]])"
   ]
  },
  {
   "cell_type": "code",
   "execution_count": 50,
   "metadata": {},
   "outputs": [
    {
     "data": {
      "text/plain": [
       "array(['Death within 30 minutes.'], dtype=object)"
      ]
     },
     "execution_count": 50,
     "metadata": {},
     "output_type": "execute_result"
    }
   ],
   "source": [
    "mod2.predict([[2.1,70050,34]])"
   ]
  },
  {
   "cell_type": "code",
   "execution_count": 67,
   "metadata": {},
   "outputs": [
    {
     "name": "stdout",
     "output_type": "stream",
     "text": [
      "[0.         0.0275786  0.03309432 0.03419746 0.03474903 1.        ]\n",
      "[2.         1.         0.71428571 0.57142857 0.28571429 0.        ]\n"
     ]
    },
    {
     "name": "stderr",
     "output_type": "stream",
     "text": [
      "C:\\Users\\User\\anaconda3\\lib\\site-packages\\sklearn\\metrics\\_ranking.py:808: UndefinedMetricWarning:\n",
      "\n",
      "No positive samples in y_true, true positive value should be meaningless\n",
      "\n"
     ]
    }
   ],
   "source": [
    "y_proba = knn.predict_proba(X_test)\n",
    "# print(y_test)\n",
    "# print(y_proba[:,0])\n",
    "\n",
    "from sklearn import metrics\n",
    "fpr , tpr , thold = metrics.roc_curve(y_test,y_proba[:,0],pos_label='e')\n",
    "print(fpr)\n",
    "print(thold)"
   ]
  },
  {
   "cell_type": "code",
   "execution_count": null,
   "metadata": {},
   "outputs": [],
   "source": []
  }
 ],
 "metadata": {
  "kernelspec": {
   "display_name": "Python 3",
   "language": "python",
   "name": "python3"
  },
  "language_info": {
   "codemirror_mode": {
    "name": "ipython",
    "version": 3
   },
   "file_extension": ".py",
   "mimetype": "text/x-python",
   "name": "python",
   "nbconvert_exporter": "python",
   "pygments_lexer": "ipython3",
   "version": "3.7.6"
  }
 },
 "nbformat": 4,
 "nbformat_minor": 4
}
